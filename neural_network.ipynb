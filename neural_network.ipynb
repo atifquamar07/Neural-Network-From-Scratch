{
 "cells": [
  {
   "cell_type": "markdown",
   "metadata": {},
   "source": [
    "# Neural Network from scratch\n",
    "---"
   ]
  },
  {
   "cell_type": "markdown",
   "metadata": {},
   "source": [
    "### Imports"
   ]
  },
  {
   "cell_type": "code",
   "execution_count": 1,
   "metadata": {},
   "outputs": [],
   "source": [
    "import numpy as np\n",
    "from sklearn.datasets import make_moons\n",
    "from sklearn.model_selection import train_test_split\n",
    "import matplotlib.pyplot as plt"
   ]
  },
  {
   "cell_type": "markdown",
   "metadata": {},
   "source": [
    "### Architecture\n",
    "Our neural network will have one hidden layer containing 4 nodes, 2 input nodes, and 1 output node."
   ]
  },
  {
   "cell_type": "code",
   "execution_count": 2,
   "metadata": {},
   "outputs": [],
   "source": [
    "NEURAL_NET = [\n",
    "    {\"prev_layer_neurons\": 2, \"current_layer_neurons\": 4, \"activation\": \"relu\"},\n",
    "    {\"prev_layer_neurons\": 4, \"current_layer_neurons\": 1, \"activation\": \"sigmoid\"}\n",
    "]"
   ]
  },
  {
   "cell_type": "markdown",
   "metadata": {},
   "source": [
    "### Function to initiate of weights and bias values for each layer randomnly"
   ]
  },
  {
   "cell_type": "code",
   "execution_count": 3,
   "metadata": {},
   "outputs": [],
   "source": [
    "def initialize_neural_network():\n",
    "    np.random.seed(150)\n",
    "    weights_biases_map = {}\n",
    "    \n",
    "    cnt = 1\n",
    "    \n",
    "    # for every layer in the neural network\n",
    "    for layer in NEURAL_NET:\n",
    "        \n",
    "        # calculating input and output neurons\n",
    "        input_neurons = layer[\"prev_layer_neurons\"]\n",
    "        output_neurons = layer[\"current_layer_neurons\"]\n",
    "        \n",
    "        # initializing weights and biases matrices\n",
    "        weights_biases_map['W' + str(cnt)] = 0.1 * np.random.randn(output_neurons, input_neurons)\n",
    "        weights_biases_map['b' + str(cnt)] = 0.1 * np.random.randn(output_neurons, 1)\n",
    "        \n",
    "        cnt += 1\n",
    "        \n",
    "    return weights_biases_map"
   ]
  },
  {
   "cell_type": "markdown",
   "metadata": {},
   "source": [
    "### Custom Activation functions"
   ]
  },
  {
   "cell_type": "code",
   "execution_count": 4,
   "metadata": {},
   "outputs": [],
   "source": [
    "# Forward propagation sigmoid activation function\n",
    "def sigmoid(Z):\n",
    "    return 1/(1+np.exp(-Z))\n",
    "\n",
    "# Backward propagation sigmoid activation function\n",
    "def sigmoid_deriviative(dA, Z):\n",
    "    sig = sigmoid(Z)\n",
    "    return dA * sig * (1 - sig)\n",
    "\n",
    "# Forward propagation ReLu activation function\n",
    "def relu(Z):\n",
    "    return np.maximum(0,Z)\n",
    "\n",
    "# Background propagation ReLu activation function\n",
    "def relu_deriviative(dA, Z):\n",
    "    dZ = np.array(dA, copy = True)\n",
    "    dZ[Z <= 0] = 0\n",
    "    return dZ"
   ]
  },
  {
   "cell_type": "markdown",
   "metadata": {},
   "source": [
    "### Function for Forward propagation"
   ]
  },
  {
   "cell_type": "code",
   "execution_count": 5,
   "metadata": {},
   "outputs": [],
   "source": [
    "def forward_propagation(current_weights, weights_biases_map):\n",
    "    \n",
    "    cache = {}\n",
    "    current_activation = current_weights\n",
    "    \n",
    "    cnt = 1\n",
    "    \n",
    "    # For every layer in the neural network\n",
    "    for layer in NEURAL_NET:\n",
    "        \n",
    "        # Activation from previous layer\n",
    "        before_activation = current_activation\n",
    "        \n",
    "        # Weights and biases for current layer\n",
    "        W = weights_biases_map['W' + str(cnt)]\n",
    "        b = weights_biases_map['b' + str(cnt)]\n",
    "        \n",
    "        # Finding Z = WX + b\n",
    "        current_Z = np.dot(W, before_activation) + b\n",
    "        \n",
    "        # Finding the current layer's activation function\n",
    "        if layer[\"activation\"] == \"relu\":\n",
    "            act_func = relu\n",
    "        elif layer[\"activation\"] == \"sigmoid\":\n",
    "            act_func = sigmoid\n",
    "        else:\n",
    "            raise Exception('Non-supported activation function')\n",
    "        \n",
    "        # Applying the activation function\n",
    "        current_activation = act_func(current_Z)\n",
    "        \n",
    "        # Caching the calculated matrices\n",
    "        cache[\"A\" + str(cnt - 1)] = before_activation\n",
    "        cache[\"Z\" + str(cnt)] = current_Z\n",
    "        \n",
    "        cnt += 1\n",
    "        \n",
    "    return (current_activation, cache)\n"
   ]
  },
  {
   "cell_type": "markdown",
   "metadata": {},
   "source": [
    "### Full backward propagation"
   ]
  },
  {
   "cell_type": "code",
   "execution_count": 6,
   "metadata": {},
   "outputs": [],
   "source": [
    "def full_backward_propagation(predicted_Y, actual_Y, cache, params_values):\n",
    "    \n",
    "    # map the store the gradients\n",
    "    gradients = {}\n",
    "    actual_Y = actual_Y.reshape(predicted_Y.shape)\n",
    "    before_activation_diff = np.divide(1 - actual_Y, 1 - predicted_Y)- np.divide(actual_Y, predicted_Y) \n",
    "    \n",
    "    # reversing the neural network for backpropagation\n",
    "    neural_net_reversed = reversed(list(enumerate(NEURAL_NET)))\n",
    "    \n",
    "    for index, layer in neural_net_reversed:\n",
    "        \n",
    "        curr_pos = index + 1\n",
    "        \n",
    "        # stroing activation function for the current layer\n",
    "        current_activation_diff = before_activation_diff\n",
    "        \n",
    "        before_activation = cache[\"A\" + str(index)]\n",
    "        current_Z = cache[\"Z\" + str(curr_pos)]\n",
    "        \n",
    "        # weights and biases for current layer\n",
    "        W = params_values[\"W\" + str(curr_pos)]\n",
    "        b = params_values[\"b\" + str(curr_pos)]\n",
    "        \n",
    "        # Finding the current layer's activation function\n",
    "        if layer['activation'] == \"relu\":\n",
    "            act_func = relu_deriviative\n",
    "        elif layer['activation'] == \"sigmoid\":\n",
    "            act_func = sigmoid_deriviative\n",
    "        \n",
    "        # Finding the derivative of the Z matrix (Z = WX + b)\n",
    "        current_Z_derv = act_func(current_activation_diff, current_Z)\n",
    "        \n",
    "        # Finding the derivative of the W matrix \n",
    "        current_W_derv = np.dot(current_Z_derv, before_activation.T) / before_activation.shape[1]\n",
    "        \n",
    "        # Finding the derivative of the b matrix\n",
    "        current_b_derv = np.sum(current_Z_derv, axis=1, keepdims=True) / before_activation.shape[1]\n",
    "        \n",
    "        # Finding the derivative of the previous activation function\n",
    "        before_activation_diff = np.dot(W.T, current_Z_derv)\n",
    "        \n",
    "        # Updating the gradients values\n",
    "        gradients[\"dW\" + str(curr_pos)] = current_W_derv\n",
    "        gradients[\"db\" + str(curr_pos)] = current_b_derv\n",
    "    \n",
    "    return gradients"
   ]
  },
  {
   "cell_type": "markdown",
   "metadata": {},
   "source": [
    "### Function to calculate Cross-Entropy loss "
   ]
  },
  {
   "cell_type": "code",
   "execution_count": 7,
   "metadata": {},
   "outputs": [],
   "source": [
    "def cross_entropy_loss(predicted_Y, true_Y):\n",
    "    shape = predicted_Y.shape[1]\n",
    "    positive_label_loss = np.dot(true_Y, np.log(predicted_Y).T)\n",
    "    negative_label_loss = np.dot(1 - true_Y, np.log(1 - predicted_Y).T)\n",
    "    total_loss = (positive_label_loss + negative_label_loss) * (-1 / shape)\n",
    "    return np.squeeze(total_loss)"
   ]
  },
  {
   "cell_type": "markdown",
   "metadata": {},
   "source": [
    "### Function to calculate the accuracy"
   ]
  },
  {
   "cell_type": "code",
   "execution_count": 8,
   "metadata": {},
   "outputs": [],
   "source": [
    "def calculate_accuracy(predicted_Y, true_Y):\n",
    "    predicted_Y_ = np.copy(predicted_Y)\n",
    "    predicted_Y_[predicted_Y_ <= 0.5] = 0\n",
    "    predicted_Y_[predicted_Y_ > 0.5] = 1\n",
    "    accuracy = (predicted_Y_ == true_Y).all(axis=0).mean()\n",
    "    return accuracy"
   ]
  },
  {
   "cell_type": "markdown",
   "metadata": {},
   "source": [
    "### Function to update weights and biases values after epoch"
   ]
  },
  {
   "cell_type": "code",
   "execution_count": 9,
   "metadata": {},
   "outputs": [],
   "source": [
    "def update(weights_biases, gradients, learning_rate):\n",
    "\n",
    "    for index in range (len(NEURAL_NET)):\n",
    "        weights_biases[\"W\" + str(index+1)] -= learning_rate * gradients[\"dW\" + str(index+1)]        \n",
    "        weights_biases[\"b\" + str(index+1)] -= learning_rate * gradients[\"db\" + str(index+1)]\n",
    "\n",
    "    return weights_biases"
   ]
  },
  {
   "cell_type": "markdown",
   "metadata": {},
   "source": [
    "### Function to train the model using the above functions"
   ]
  },
  {
   "cell_type": "code",
   "execution_count": 50,
   "metadata": {},
   "outputs": [],
   "source": [
    "def train(X, Y, epochs, learning_rate):\n",
    "    \n",
    "    # 1. Randomnly initialize the weights and biases of the model\n",
    "    weights_biases = initialize_neural_network()\n",
    "    # print('Initialized Weights and Biases:')\n",
    "    # print(weights_biases)\n",
    "    \n",
    "    # 2. Initialize lists to store the loss and accuracy history overtime the training of model\n",
    "    overtime_loss = []\n",
    "    overtime_accuracy = []\n",
    "    \n",
    "    # 3. For every epoch, do the following\n",
    "    for epoch in range(epochs):\n",
    "        \n",
    "        # 4. Perform forward propagation through the neural network\n",
    "        Y_hat, cashe = forward_propagation(X, weights_biases)\n",
    "        \n",
    "        # 5. Calculate the cross-entropy loss for every forward propagation in each epoch\n",
    "        cost = cross_entropy_loss(Y_hat, Y)\n",
    "        overtime_loss.append(cost)\n",
    "        \n",
    "        # 6. Calculate the accuracy for every forward propagation in each epoch\n",
    "        accuracy = calculate_accuracy(Y_hat, Y)\n",
    "        overtime_accuracy.append(accuracy)\n",
    "        \n",
    "        # 7. Perform the backward propagation through the neural network, to calculate the gradients\n",
    "        gradients = full_backward_propagation(Y_hat, Y, cashe, weights_biases)\n",
    "        \n",
    "        # 8. Update the model's weights and biases (learnable parameters)\n",
    "        weights_biases = update(weights_biases, gradients, learning_rate)\n",
    "        # print('The updated Weights and Biases values:')\n",
    "        # print(weights_biases)\n",
    "        \n",
    "        # 9. Display the performance of the model at the end of each epoch\n",
    "        print(\"Epoch: {}, 'loss': {:.10f}, 'accuracy': {:.10f}\".format(epoch + 1, cost, accuracy))\n",
    "            \n",
    "    return weights_biases, overtime_loss, overtime_accuracy"
   ]
  },
  {
   "cell_type": "markdown",
   "metadata": {},
   "source": [
    "## Testing model with generated dataset"
   ]
  },
  {
   "cell_type": "markdown",
   "metadata": {},
   "source": [
    "### Create artificial dataset"
   ]
  },
  {
   "cell_type": "code",
   "execution_count": 51,
   "metadata": {},
   "outputs": [
    {
     "name": "stdout",
     "output_type": "stream",
     "text": [
      "Shape of X:  (500, 2)\n",
      "Shape of Y:  (500,)\n"
     ]
    }
   ],
   "source": [
    "X, y = make_moons(n_samples = 500, noise = 0.19, random_state = 21)\n",
    "X_train, X_test, y_train, y_test = train_test_split(X, y, test_size = 0.2, random_state=42)\n",
    "print(\"Shape of X: \", X.shape)\n",
    "print(\"Shape of Y: \", y.shape)"
   ]
  },
  {
   "cell_type": "markdown",
   "metadata": {},
   "source": [
    "### Function to plot the dataset"
   ]
  },
  {
   "cell_type": "code",
   "execution_count": 52,
   "metadata": {},
   "outputs": [],
   "source": [
    "def plot_dataset(X, y):\n",
    "    plt.figure(figsize=(8, 6))\n",
    "    plt.scatter(X[y == 0][:, 0], X[y == 0][:, 1], color='red', edgecolors='black', label='Class 0')\n",
    "    plt.scatter(X[y == 1][:, 0], X[y == 1][:, 1], color='blue', edgecolors='black', label='Class 1')\n",
    "    plt.title('Dataset')\n",
    "    plt.xlabel('X')\n",
    "    plt.ylabel('Y')\n",
    "    plt.legend()\n",
    "    plt.show()"
   ]
  },
  {
   "cell_type": "markdown",
   "metadata": {},
   "source": [
    "### Visualization of the data set"
   ]
  },
  {
   "cell_type": "code",
   "execution_count": 53,
   "metadata": {},
   "outputs": [
    {
     "data": {
      "image/png": "[encoded data removed]",
      "text/plain": [
       "<Figure size 800x600 with 1 Axes>"
      ]
     },
     "metadata": {},
     "output_type": "display_data"
    }
   ],
   "source": [
    "plot_dataset(X, y)"
   ]
  },
  {
   "cell_type": "markdown",
   "metadata": {},
   "source": [
    "### Testing the model performance on our dataset"
   ]
  },
  {
   "cell_type": "code",
   "execution_count": 54,
   "metadata": {},
   "outputs": [
    {
     "name": "stdout",
     "output_type": "stream",
     "text": [
      "Epoch: 1, 'loss': 0.6972940771, 'accuracy': 0.5150000000\n",
      "Epoch: 2, 'loss': 0.6947179995, 'accuracy': 0.5150000000\n",
      "Epoch: 3, 'loss': 0.6931316877, 'accuracy': 0.5150000000\n",
      "Epoch: 4, 'loss': 0.6918649825, 'accuracy': 0.5150000000\n",
      "Epoch: 5, 'loss': 0.6906685496, 'accuracy': 0.5150000000\n",
      "Epoch: 6, 'loss': 0.6893984275, 'accuracy': 0.5150000000\n",
      "Epoch: 7, 'loss': 0.6879758292, 'accuracy': 0.5150000000\n",
      "Epoch: 8, 'loss': 0.6863420573, 'accuracy': 0.5150000000\n",
      "Epoch: 9, 'loss': 0.6844248654, 'accuracy': 0.5150000000\n",
      "Epoch: 10, 'loss': 0.6821418805, 'accuracy': 0.5150000000\n",
      "Epoch: 11, 'loss': 0.6794027532, 'accuracy': 0.5150000000\n",
      "Epoch: 12, 'loss': 0.6761060294, 'accuracy': 0.5150000000\n",
      "Epoch: 13, 'loss': 0.6721415370, 'accuracy': 0.5150000000\n",
      "Epoch: 14, 'loss': 0.6673854200, 'accuracy': 0.5150000000\n",
      "Epoch: 15, 'loss': 0.6617133741, 'accuracy': 0.5150000000\n",
      "Epoch: 16, 'loss': 0.6550030328, 'accuracy': 0.5300000000\n",
      "Epoch: 17, 'loss': 0.6471454295, 'accuracy': 0.7425000000\n",
      "Epoch: 18, 'loss': 0.6380611863, 'accuracy': 0.7825000000\n",
      "Epoch: 19, 'loss': 0.6277065863, 'accuracy': 0.7950000000\n",
      "Epoch: 20, 'loss': 0.6160880074, 'accuracy': 0.7950000000\n",
      "Epoch: 21, 'loss': 0.6032654258, 'accuracy': 0.7950000000\n",
      "Epoch: 22, 'loss': 0.5893506522, 'accuracy': 0.8025000000\n",
      "Epoch: 23, 'loss': 0.5744992763, 'accuracy': 0.8075000000\n",
      "Epoch: 24, 'loss': 0.5589051698, 'accuracy': 0.8075000000\n",
      "Epoch: 25, 'loss': 0.5427674849, 'accuracy': 0.8150000000\n",
      "Epoch: 26, 'loss': 0.5263047421, 'accuracy': 0.8100000000\n",
      "Epoch: 27, 'loss': 0.5097301975, 'accuracy': 0.8150000000\n",
      "Epoch: 28, 'loss': 0.4932286751, 'accuracy': 0.8250000000\n",
      "Epoch: 29, 'loss': 0.4769828160, 'accuracy': 0.8350000000\n",
      "Epoch: 30, 'loss': 0.4611801940, 'accuracy': 0.8400000000\n",
      "Epoch: 31, 'loss': 0.4459801244, 'accuracy': 0.8375000000\n",
      "Epoch: 32, 'loss': 0.4315278223, 'accuracy': 0.8450000000\n",
      "Epoch: 33, 'loss': 0.4179486371, 'accuracy': 0.8450000000\n",
      "Epoch: 34, 'loss': 0.4053389275, 'accuracy': 0.8450000000\n",
      "Epoch: 35, 'loss': 0.3937247031, 'accuracy': 0.8475000000\n",
      "Epoch: 36, 'loss': 0.3830996576, 'accuracy': 0.8450000000\n",
      "Epoch: 37, 'loss': 0.3734448726, 'accuracy': 0.8525000000\n",
      "Epoch: 38, 'loss': 0.3647066709, 'accuracy': 0.8525000000\n",
      "Epoch: 39, 'loss': 0.3568330034, 'accuracy': 0.8500000000\n",
      "Epoch: 40, 'loss': 0.3497318330, 'accuracy': 0.8550000000\n",
      "Epoch: 41, 'loss': 0.3433724887, 'accuracy': 0.8600000000\n",
      "Epoch: 42, 'loss': 0.3376681858, 'accuracy': 0.8600000000\n",
      "Epoch: 43, 'loss': 0.3324772601, 'accuracy': 0.8600000000\n",
      "Epoch: 44, 'loss': 0.3277618031, 'accuracy': 0.8625000000\n",
      "Epoch: 45, 'loss': 0.3234683182, 'accuracy': 0.8700000000\n",
      "Epoch: 46, 'loss': 0.3195470886, 'accuracy': 0.8700000000\n",
      "Epoch: 47, 'loss': 0.3159511805, 'accuracy': 0.8700000000\n",
      "Epoch: 48, 'loss': 0.3126507074, 'accuracy': 0.8700000000\n",
      "Epoch: 49, 'loss': 0.3096383308, 'accuracy': 0.8700000000\n",
      "Epoch: 50, 'loss': 0.3068551906, 'accuracy': 0.8700000000\n",
      "Epoch: 51, 'loss': 0.3042897151, 'accuracy': 0.8725000000\n",
      "Epoch: 52, 'loss': 0.3019473309, 'accuracy': 0.8775000000\n",
      "Epoch: 53, 'loss': 0.2998054818, 'accuracy': 0.8775000000\n",
      "Epoch: 54, 'loss': 0.2978223052, 'accuracy': 0.8775000000\n",
      "Epoch: 55, 'loss': 0.2959766678, 'accuracy': 0.8775000000\n",
      "Epoch: 56, 'loss': 0.2942899478, 'accuracy': 0.8800000000\n",
      "Epoch: 57, 'loss': 0.2926783450, 'accuracy': 0.8825000000\n",
      "Epoch: 58, 'loss': 0.2911928203, 'accuracy': 0.8850000000\n",
      "Epoch: 59, 'loss': 0.2898262046, 'accuracy': 0.8850000000\n",
      "Epoch: 60, 'loss': 0.2885679179, 'accuracy': 0.8850000000\n",
      "Epoch: 61, 'loss': 0.2874116833, 'accuracy': 0.8900000000\n",
      "Epoch: 62, 'loss': 0.2863556646, 'accuracy': 0.8900000000\n",
      "Epoch: 63, 'loss': 0.2853914119, 'accuracy': 0.8900000000\n",
      "Epoch: 64, 'loss': 0.2845006902, 'accuracy': 0.8900000000\n",
      "Epoch: 65, 'loss': 0.2836944731, 'accuracy': 0.8900000000\n",
      "Epoch: 66, 'loss': 0.2829587666, 'accuracy': 0.8900000000\n",
      "Epoch: 67, 'loss': 0.2822773173, 'accuracy': 0.8925000000\n",
      "Epoch: 68, 'loss': 0.2816534364, 'accuracy': 0.8925000000\n",
      "Epoch: 69, 'loss': 0.2810770962, 'accuracy': 0.8925000000\n",
      "Epoch: 70, 'loss': 0.2805405569, 'accuracy': 0.8925000000\n",
      "Epoch: 71, 'loss': 0.2800435637, 'accuracy': 0.8925000000\n",
      "Epoch: 72, 'loss': 0.2795877916, 'accuracy': 0.8950000000\n",
      "Epoch: 73, 'loss': 0.2791678339, 'accuracy': 0.8950000000\n",
      "Epoch: 74, 'loss': 0.2787853911, 'accuracy': 0.8950000000\n",
      "Epoch: 75, 'loss': 0.2784322449, 'accuracy': 0.8950000000\n",
      "Epoch: 76, 'loss': 0.2781061280, 'accuracy': 0.8950000000\n",
      "Epoch: 77, 'loss': 0.2778052657, 'accuracy': 0.8950000000\n",
      "Epoch: 78, 'loss': 0.2775267925, 'accuracy': 0.8950000000\n",
      "Epoch: 79, 'loss': 0.2772680782, 'accuracy': 0.8950000000\n",
      "Epoch: 80, 'loss': 0.2770274723, 'accuracy': 0.8950000000\n",
      "Epoch: 81, 'loss': 0.2768027730, 'accuracy': 0.8950000000\n",
      "Epoch: 82, 'loss': 0.2765927605, 'accuracy': 0.8950000000\n",
      "Epoch: 83, 'loss': 0.2763981038, 'accuracy': 0.8950000000\n",
      "Epoch: 84, 'loss': 0.2762178537, 'accuracy': 0.8950000000\n",
      "Epoch: 85, 'loss': 0.2760490368, 'accuracy': 0.8950000000\n",
      "Epoch: 86, 'loss': 0.2758907624, 'accuracy': 0.8950000000\n",
      "Epoch: 87, 'loss': 0.2757427441, 'accuracy': 0.8950000000\n",
      "Epoch: 88, 'loss': 0.2756052613, 'accuracy': 0.8950000000\n",
      "Epoch: 89, 'loss': 0.2754780182, 'accuracy': 0.8950000000\n",
      "Epoch: 90, 'loss': 0.2753583379, 'accuracy': 0.8950000000\n",
      "Epoch: 91, 'loss': 0.2752456355, 'accuracy': 0.8900000000\n",
      "Epoch: 92, 'loss': 0.2751397287, 'accuracy': 0.8900000000\n",
      "Epoch: 93, 'loss': 0.2750416388, 'accuracy': 0.8900000000\n",
      "Epoch: 94, 'loss': 0.2749503507, 'accuracy': 0.8900000000\n",
      "Epoch: 95, 'loss': 0.2748650746, 'accuracy': 0.8900000000\n",
      "Epoch: 96, 'loss': 0.2747866976, 'accuracy': 0.8900000000\n",
      "Epoch: 97, 'loss': 0.2747143991, 'accuracy': 0.8900000000\n",
      "Epoch: 98, 'loss': 0.2746466925, 'accuracy': 0.8900000000\n",
      "Epoch: 99, 'loss': 0.2745836706, 'accuracy': 0.8900000000\n",
      "Epoch: 100, 'loss': 0.2745239818, 'accuracy': 0.8900000000\n"
     ]
    }
   ],
   "source": [
    "weights_biases, loss, accuracy = train(np.transpose(X_train), np.transpose(y_train.reshape((y_train.shape[0], 1))), 100, 0.5)"
   ]
  },
  {
   "cell_type": "markdown",
   "metadata": {},
   "source": [
    "### Getting Predictions"
   ]
  },
  {
   "cell_type": "code",
   "execution_count": 55,
   "metadata": {},
   "outputs": [],
   "source": [
    "# Prediction\n",
    "Y_test_hat, _ = forward_propagation(np.transpose(X_test), weights_biases)"
   ]
  },
  {
   "cell_type": "markdown",
   "metadata": {},
   "source": [
    "### Performance of our neural network"
   ]
  },
  {
   "cell_type": "code",
   "execution_count": 56,
   "metadata": {},
   "outputs": [
    {
     "name": "stdout",
     "output_type": "stream",
     "text": [
      "Test set accuracy: 0.87\n"
     ]
    }
   ],
   "source": [
    "# Accuracy achieved on the test set\n",
    "acc_test = calculate_accuracy(Y_test_hat, np.transpose(y_test.reshape((y_test.shape[0], 1))))\n",
    "print(\"Test set accuracy: {}\".format(acc_test))"
   ]
  },
  {
   "cell_type": "markdown",
   "metadata": {},
   "source": [
    "### Function to plot loss history"
   ]
  },
  {
   "cell_type": "code",
   "execution_count": 57,
   "metadata": {},
   "outputs": [],
   "source": [
    "def plot_loss(loss_history):\n",
    "    plt.figure(figsize=(8, 6))\n",
    "    plt.plot(range(1, len(loss_history) + 1), loss_history, linestyle='-', color='r', linewidth=1)\n",
    "    plt.title('Loss vs Epoch')\n",
    "    plt.xlabel('Epoch')\n",
    "    plt.ylabel('Loss')\n",
    "    plt.grid(True)\n",
    "    plt.show()"
   ]
  },
  {
   "cell_type": "markdown",
   "metadata": {},
   "source": [
    "### Function to plot accuracy history"
   ]
  },
  {
   "cell_type": "code",
   "execution_count": 58,
   "metadata": {},
   "outputs": [],
   "source": [
    "def plot_accuracy(accuracy_history):\n",
    "    plt.figure(figsize=(8, 6))\n",
    "    plt.plot(range(1, len(accuracy_history) + 1), accuracy_history, linestyle='-', color='r', linewidth=1)\n",
    "    plt.title('Accuracy vs Epoch')\n",
    "    plt.xlabel('Epoch')\n",
    "    plt.ylabel('Loss')\n",
    "    plt.grid(True)\n",
    "    plt.show()"
   ]
  },
  {
   "cell_type": "markdown",
   "metadata": {},
   "source": [
    "### Loss vs Epoch"
   ]
  },
  {
   "cell_type": "code",
   "execution_count": 59,
   "metadata": {},
   "outputs": [
    {
     "data": {
      "image/png": "[encoded data removed]",
      "text/plain": [
       "<Figure size 800x600 with 1 Axes>"
      ]
     },
     "metadata": {},
     "output_type": "display_data"
    }
   ],
   "source": [
    "plot_loss(loss)"
   ]
  },
  {
   "cell_type": "markdown",
   "metadata": {},
   "source": [
    "### Accuracy vs Epoch"
   ]
  },
  {
   "cell_type": "code",
   "execution_count": 60,
   "metadata": {},
   "outputs": [
    {
     "data": {
      "image/png": "[encoded data removed]",
      "text/plain": [
       "<Figure size 800x600 with 1 Axes>"
      ]
     },
     "metadata": {},
     "output_type": "display_data"
    }
   ],
   "source": [
    "plot_accuracy(accuracy)"
   ]
  },
  {
   "cell_type": "markdown",
   "metadata": {},
   "source": [
    "### Reason for the above observation"
   ]
  },
  {
   "cell_type": "markdown",
   "metadata": {},
   "source": [
    "We see that the loss decreases as the number of epochs progresses, on the other hand and the accuracy of our model increases over time. This is a clear indication of the model being trained and improved on the data. The model updates its weights and biases in the neural network after each epoch so that it accurately predicts the any new data."
   ]
  }
 ],
 "metadata": {
  "kernelspec": {
   "display_name": "Python 3",
   "language": "python",
   "name": "python3"
  },
  "language_info": {
   "codemirror_mode": {
    "name": "ipython",
    "version": 3
   },
   "file_extension": ".py",
   "mimetype": "text/x-python",
   "name": "python",
   "nbconvert_exporter": "python",
   "pygments_lexer": "ipython3",
   "version": "3.11.5"
  }
 },
 "nbformat": 4,
 "nbformat_minor": 2
}
